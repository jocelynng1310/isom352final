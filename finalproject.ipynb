{
 "cells": [
  {
   "cell_type": "markdown",
   "metadata": {},
   "source": [
    "# ISOM 352 Final Project - Group 7"
   ]
  },
  {
   "cell_type": "code",
   "execution_count": 22,
   "metadata": {},
   "outputs": [],
   "source": [
    "# plt.style.use('ggplot')\n",
    "\n",
    "# Import packages\n",
    "import pandas as pd\n",
    "import matplotlib.pyplot as plt\n",
    "import seaborn as sns\n",
    "import statsmodels.api as sm\n",
    "import numpy as np"
   ]
  },
  {
   "cell_type": "markdown",
   "metadata": {},
   "source": [
    "## Step 1: Load and clean dataset"
   ]
  },
  {
   "cell_type": "code",
   "execution_count": 33,
   "metadata": {},
   "outputs": [
    {
     "name": "stdout",
     "output_type": "stream",
     "text": [
      "<class 'pandas.core.frame.DataFrame'>\n",
      "RangeIndex: 406 entries, 0 to 405\n",
      "Data columns (total 17 columns):\n",
      " #   Column                                                                                             Non-Null Count  Dtype  \n",
      "---  ------                                                                                             --------------  -----  \n",
      " 0   Timestamp                                                                                          406 non-null    object \n",
      " 1   Your Sex?                                                                                          404 non-null    object \n",
      " 2   Your Matric (grade 12) Average/ GPA (in %)                                                         399 non-null    float64\n",
      " 3   What year were you in last year (2023) ?                                                           333 non-null    object \n",
      " 4   What faculty does your degree fall under?                                                          399 non-null    object \n",
      " 5   Your 2023 academic year average/GPA in % (Ignore if you are 2024 1st year student)                 320 non-null    float64\n",
      " 6   Your Accommodation Status Last Year (2023)                                                         383 non-null    object \n",
      " 7   Monthly Allowance in 2023                                                                          375 non-null    object \n",
      " 8   Were you on scholarship/bursary in 2023?                                                           398 non-null    object \n",
      " 9   Additional amount of studying (in hrs) per week                                                    403 non-null    object \n",
      " 10  How often do you go out partying/socialising during the week?                                      404 non-null    object \n",
      " 11  On a night out, how many alcoholic drinks do you consume?                                          404 non-null    object \n",
      " 12  How many classes do you miss per week due to alcohol reasons, (i.e: being hungover or too tired?)  403 non-null    object \n",
      " 13  How many modules have you failed thus far into your studies?                                       403 non-null    object \n",
      " 14  Are you currently in a romantic relationship?                                                      403 non-null    object \n",
      " 15  Do your parents approve alcohol consumption?                                                       402 non-null    object \n",
      " 16  How strong is your relationship with your parent/s?                                                403 non-null    object \n",
      "dtypes: float64(2), object(15)\n",
      "memory usage: 54.1+ KB\n"
     ]
    },
    {
     "data": {
      "text/plain": [
       "Timestamp                                                                                            0\n",
       "Your Sex?                                                                                            0\n",
       "Your Matric (grade 12) Average/ GPA (in %)                                                           0\n",
       "What year were you in last year (2023) ?                                                             0\n",
       "What faculty does your degree fall under?                                                            0\n",
       "Your 2023 academic year average/GPA in % (Ignore if you are 2024 1st year student)                   0\n",
       "Your Accommodation Status Last Year (2023)                                                           0\n",
       "Monthly Allowance in 2023                                                                            0\n",
       "Were you on scholarship/bursary in 2023?                                                             0\n",
       "Additional amount of studying (in hrs) per week                                                      0\n",
       "How often do you go out partying/socialising during the week?                                        0\n",
       "On a night out, how many alcoholic drinks do you consume?                                            0\n",
       "How many classes do you miss per week due to alcohol reasons, (i.e: being hungover or too tired?)    0\n",
       "How many modules have you failed thus far into your studies?                                         0\n",
       "Are you currently in a romantic relationship?                                                        0\n",
       "Do your parents approve alcohol consumption?                                                         0\n",
       "How strong is your relationship with your parent/s?                                                  0\n",
       "dtype: int64"
      ]
     },
     "execution_count": 33,
     "metadata": {},
     "output_type": "execute_result"
    }
   ],
   "source": [
    "# Read and explore dataset\n",
    "df = pd.read_csv('student_alcohol.csv') \n",
    "df.info()\n",
    "\n",
    "# Process missing values\n",
    "df = df.dropna()\n",
    "df.isnull().sum()"
   ]
  },
  {
   "cell_type": "code",
   "execution_count": 36,
   "metadata": {},
   "outputs": [
    {
     "name": "stdout",
     "output_type": "stream",
     "text": [
      "<class 'pandas.core.frame.DataFrame'>\n",
      "Index: 295 entries, 0 to 402\n",
      "Data columns (total 17 columns):\n",
      " #   Column               Non-Null Count  Dtype  \n",
      "---  ------               --------------  -----  \n",
      " 0   Timestamp            295 non-null    object \n",
      " 1   sex                  295 non-null    object \n",
      " 2   hs_gpa               295 non-null    float64\n",
      " 3   grade                295 non-null    object \n",
      " 4   major                295 non-null    object \n",
      " 5   uni_gpa              295 non-null    float64\n",
      " 6   accomodation         295 non-null    object \n",
      " 7   allowance            295 non-null    object \n",
      " 8   scholarship          295 non-null    object \n",
      " 9   study_hrs            295 non-null    object \n",
      " 10  social_freq          295 non-null    object \n",
      " 11  drink_freq           295 non-null    object \n",
      " 12  missed_class         295 non-null    object \n",
      " 13  failed_module        295 non-null    object \n",
      " 14  relationship         295 non-null    object \n",
      " 15  parent_app           295 non-null    object \n",
      " 16  parent_relationship  295 non-null    object \n",
      "dtypes: float64(2), object(15)\n",
      "memory usage: 41.5+ KB\n"
     ]
    }
   ],
   "source": [
    "# Renaming all variables\n",
    "df1 = df.rename(columns={\"Your Sex?\":\"sex\",\"Your Matric (grade 12) Average/ GPA (in %)\":\"hs_gpa\",\n",
    "                        \"What year were you in last year (2023) ?\":\"grade\",\n",
    "                        \"What faculty does your degree fall under?\":\"major\",\n",
    "                        \"Your 2023 academic year average/GPA in % (Ignore if you are 2024 1st year student)\":\"uni_gpa\",\n",
    "                        \"Your Accommodation Status Last Year (2023)\":\"accomodation\",\n",
    "                        \"Monthly Allowance in 2023\":\"allowance\",\n",
    "                        \"Were you on scholarship/bursary in 2023?\":\"scholarship\",\n",
    "                        \"Additional amount of studying (in hrs) per week\":\"study_hrs\",\n",
    "                        \"How often do you go out partying/socialising during the week? \":\"social_freq\",\n",
    "                        \"On a night out, how many alcoholic drinks do you consume?\":\"drink_freq\",\n",
    "                        \"How many classes do you miss per week due to alcohol reasons, (i.e: being hungover or too tired?)\":\"missed_class\",\n",
    "                        \"How many modules have you failed thus far into your studies?\":\"failed_module\",\n",
    "                        \"Are you currently in a romantic relationship?\":\"relationship\",\n",
    "                        \"Do your parents approve alcohol consumption?\":\"parent_app\",\n",
    "                        \"How strong is your relationship with your parent/s?\":\"parent_relationship\"})\n",
    "\n",
    "# Checking new variable names\n",
    "df1.info()"
   ]
  },
  {
   "cell_type": "code",
   "execution_count": 30,
   "metadata": {},
   "outputs": [
    {
     "name": "stdout",
     "output_type": "stream",
     "text": [
      "Index(['hs_gpa', 'uni_gpa'], dtype='object') Index(['Timestamp', 'sex', 'grade', 'major', 'accomodation', 'allowance',\n",
      "       'scholarship', 'study_hrs',\n",
      "       'How often do you go out partying/socialising during the week? ',\n",
      "       'drink_freq', 'missed_class', 'failed_module', 'relationship',\n",
      "       'parent_app', 'parent_relationship'],\n",
      "      dtype='object')\n",
      "<class 'pandas.core.frame.DataFrame'>\n",
      "Index: 295 entries, 0 to 402\n",
      "Data columns (total 17 columns):\n",
      " #   Column                                                          Non-Null Count  Dtype   \n",
      "---  ------                                                          --------------  -----   \n",
      " 0   Timestamp                                                       295 non-null    category\n",
      " 1   sex                                                             295 non-null    category\n",
      " 2   hs_gpa                                                          295 non-null    float64 \n",
      " 3   grade                                                           295 non-null    category\n",
      " 4   major                                                           295 non-null    category\n",
      " 5   uni_gpa                                                         295 non-null    float64 \n",
      " 6   accomodation                                                    295 non-null    category\n",
      " 7   allowance                                                       295 non-null    category\n",
      " 8   scholarship                                                     295 non-null    category\n",
      " 9   study_hrs                                                       295 non-null    category\n",
      " 10  How often do you go out partying/socialising during the week?   295 non-null    category\n",
      " 11  drink_freq                                                      295 non-null    category\n",
      " 12  missed_class                                                    295 non-null    category\n",
      " 13  failed_module                                                   295 non-null    category\n",
      " 14  relationship                                                    295 non-null    category\n",
      " 15  parent_app                                                      295 non-null    category\n",
      " 16  parent_relationship                                             295 non-null    category\n",
      "dtypes: category(15), float64(2)\n",
      "memory usage: 24.5 KB\n"
     ]
    }
   ],
   "source": [
    "# Identify categorical and quantitative features\n",
    "quant_vars = df1.columns[df1.dtypes != 'object']\n",
    "cat_vars = df1.columns[df1.dtypes == 'object']\n",
    "print(quant_vars, cat_vars)\n",
    "\n",
    "# Converting all `cat_vars`to `category`\n",
    "for var in cat_vars:\n",
    "    df1[var] = df1[var].astype('category')\n",
    "\n",
    "# Checking new variable types\n",
    "df1.info()\n"
   ]
  },
  {
   "cell_type": "markdown",
   "metadata": {},
   "source": [
    "## Step 2: Descriptive Analysis"
   ]
  },
  {
   "cell_type": "markdown",
   "metadata": {},
   "source": [
    "### A) Single Variables"
   ]
  },
  {
   "cell_type": "code",
   "execution_count": 40,
   "metadata": {},
   "outputs": [
    {
     "data": {
      "text/html": [
       "<div>\n",
       "<style scoped>\n",
       "    .dataframe tbody tr th:only-of-type {\n",
       "        vertical-align: middle;\n",
       "    }\n",
       "\n",
       "    .dataframe tbody tr th {\n",
       "        vertical-align: top;\n",
       "    }\n",
       "\n",
       "    .dataframe thead th {\n",
       "        text-align: right;\n",
       "    }\n",
       "</style>\n",
       "<table border=\"1\" class=\"dataframe\">\n",
       "  <thead>\n",
       "    <tr style=\"text-align: right;\">\n",
       "      <th></th>\n",
       "      <th>hs_gpa</th>\n",
       "      <th>uni_gpa</th>\n",
       "    </tr>\n",
       "  </thead>\n",
       "  <tbody>\n",
       "    <tr>\n",
       "      <th>count</th>\n",
       "      <td>295.000000</td>\n",
       "      <td>295.000000</td>\n",
       "    </tr>\n",
       "    <tr>\n",
       "      <th>mean</th>\n",
       "      <td>78.209593</td>\n",
       "      <td>66.562780</td>\n",
       "    </tr>\n",
       "    <tr>\n",
       "      <th>std</th>\n",
       "      <td>6.577461</td>\n",
       "      <td>9.328997</td>\n",
       "    </tr>\n",
       "    <tr>\n",
       "      <th>min</th>\n",
       "      <td>60.000000</td>\n",
       "      <td>30.000000</td>\n",
       "    </tr>\n",
       "    <tr>\n",
       "      <th>25%</th>\n",
       "      <td>74.000000</td>\n",
       "      <td>60.000000</td>\n",
       "    </tr>\n",
       "    <tr>\n",
       "      <th>50%</th>\n",
       "      <td>78.000000</td>\n",
       "      <td>65.000000</td>\n",
       "    </tr>\n",
       "    <tr>\n",
       "      <th>75%</th>\n",
       "      <td>83.000000</td>\n",
       "      <td>74.000000</td>\n",
       "    </tr>\n",
       "    <tr>\n",
       "      <th>max</th>\n",
       "      <td>99.000000</td>\n",
       "      <td>95.220000</td>\n",
       "    </tr>\n",
       "  </tbody>\n",
       "</table>\n",
       "</div>"
      ],
      "text/plain": [
       "           hs_gpa     uni_gpa\n",
       "count  295.000000  295.000000\n",
       "mean    78.209593   66.562780\n",
       "std      6.577461    9.328997\n",
       "min     60.000000   30.000000\n",
       "25%     74.000000   60.000000\n",
       "50%     78.000000   65.000000\n",
       "75%     83.000000   74.000000\n",
       "max     99.000000   95.220000"
      ]
     },
     "execution_count": 40,
     "metadata": {},
     "output_type": "execute_result"
    }
   ],
   "source": [
    "# Describing quantitative variables\n",
    "df1.describe()"
   ]
  }
 ],
 "metadata": {
  "kernelspec": {
   "display_name": "Python 3",
   "language": "python",
   "name": "python3"
  },
  "language_info": {
   "codemirror_mode": {
    "name": "ipython",
    "version": 3
   },
   "file_extension": ".py",
   "mimetype": "text/x-python",
   "name": "python",
   "nbconvert_exporter": "python",
   "pygments_lexer": "ipython3",
   "version": "3.12.0"
  }
 },
 "nbformat": 4,
 "nbformat_minor": 2
}
